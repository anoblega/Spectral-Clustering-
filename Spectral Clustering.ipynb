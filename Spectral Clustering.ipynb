{
 "cells": [
  {
   "cell_type": "markdown",
   "metadata": {
    "collapsed": true
   },
   "source": [
    "\n",
    "# Spectral Clustering\n",
    "\n",
    "\n",
    "## 1. Grafo de Similitud\n",
    "\n",
    "Dados:\n",
    "\n",
    "* Un conjunto de datos $X = \\{x_1, x_2,...,x_n\\}$ \n",
    "\n",
    "* Un valor de similitud $s_{ij} \\geq 0$ entre dos datos $x_i$ y $x_j$. \n",
    "\n",
    "El objetivo es dividir el conjunto $X$ en diferentes grupos, de tal manera que los datos que se encuentran en un mismo grupo son aquellos que son similares entre sí, y diferentes a los que se encuentran en otros grupos. \n",
    "\n",
    "Una manera de representar los *data points* conociendo las *similitudes* entre ellos, es usando una *Matriz de Similitud G = (V,E)*, donde:\n",
    "\n",
    "* Cada vértice $v_i$ representa a un dato $x_i$.\n",
    "\n",
    "* Los vértices $v_i$ y $v_j$ están conectados si su similitud $s_{ij}$ es positiva o mayor a un *threshold*\n"
   ]
  },
  {
   "cell_type": "markdown",
   "metadata": {},
   "source": [
    "### 1.1. Notación del Grafo\n",
    "Dado $G = (V, E)$ un grado no-dirigido con el conjunto de vértices $V = \\{v_1, v_2, ..., v_n\\}$.  Asumimos que:\n",
    "\n",
    "* El grafo $G$ es ponderado, es decir, cada arista entre dos vértices $v_i$ y $v_j$  tiene un peso no-negativo $w_{ij} \\geq 0 $.\n",
    "\n",
    "* La **matriz de adyacencia ponderada**  del grafo es la matriz $W = (w_{ij})_{ij=1,...,n}$ .\n",
    "\n",
    "* Si los vértices $v_i$ y $v_j$ no están conectados entonces $w_{ij} = 0$.\n",
    "\n",
    "* La matriz de adyacencia es *simétrica* pues $w_{ij} = w_{ji}$. \n",
    "\n",
    "* El **grado** de un vértice $v_i$ se define como $$d_i = \\sum_{j = 1}^{n}{w_{ij}}$$ \n",
    "\n",
    "* La **Matriz de Grado D** está definida como la matriz diagonal  con los grados $d_1, d_2,...,d_n$ en la diagonal. \n",
    "\n",
    "\n",
    "\n",
    "Sea el subconjunto $A \\subset V$ de un **grafo es conexo** si para cualquier par de vértices en $A$ tiene una trayectoria con vértices intermediarios que pertenecen también a $A$.\n",
    "\n",
    "El subconjunto $A$ es llamada **componente conexa** si además de conexo, no hay conexión entre los vértices de $A$ y su complemento $\\bar{A}$.\n",
    "\n",
    "Conociendo lo anterior, podemos definir los conjuntos no vacíos $A_1, A_2, ..., A_k$ son particiones del grafo $A$, tal que:\n",
    "\n",
    "* $A_i \\cap A_j = \\emptyset$\n",
    "* $A_1 \\cup A_2 \\cup ... \\cup A_k = V$\n"
   ]
  },
  {
   "cell_type": "markdown",
   "metadata": {},
   "source": [
    "### 1.2. Ejemplos Grafos de Similitud\n",
    "\n",
    "Para transformar un conjunto de *data points* $x_1, x_2, ..., x_n$ en un grafo de similitudes $s_{ij}$ o de distancias $d_{ij}$, existen diversos métodos.\n",
    "\n",
    "Construir *grafos de similitud* ayuda a modelar las relaciones de vecindad local entre los *data points*.\n",
    "\n",
    "* **El Grafo $\\varepsilon-$Neighborhood:**\n",
    "Se conectan aquellos pares de vértices cuya distancia sea más pequeña que $\\varepsilon$. Es así que los pesos del grafo estan en la misma escala.\n",
    "\n",
    "* **El Grafo $k-$Nearest Neighbor**: Los véstices $v_i$ y $v_j$ están conectados si $v_j$ pertenece a los $k$ vecinos más cercanos de $v_i$. Esto define un grafo dirigido, pero ello puede ser solucionado de dos maneras:\n",
    "    * Ignorar las direcciones de los arcos, es decir, existe la arista $e_{ij} \\in E$ tal que $v_i$ es un $k$-vecino más cercano de $v_j$ o viceversa. De ello se obtiene el **grado de k-vecinos más cercanos**\n",
    "    \n",
    "    * Conectar los vértices $v_i$ y $v_j$ si uno pertenece a los $k-$vecinos más cercanos del otro y viceversa, obteniendo el **grafo de k-vecinos más cercanos mutuo**\n",
    "\n",
    "\n",
    "* **El Grafo Completamente Conectado:** Se conectan aquellos vértices cuya similitud es positiva siendo ello su peso de la arista que los une $s_{ij}$. La función a usar debe reflejar las relaciones de vecindad local. \n",
    "\n",
    "    * Un ejemplo de esta función es la **función de similitud Gausiana** $s(x_i, x_j) = \\exp{(-\\frac{\\|x_i - x_j \\|^2}{2\\sigma^2})}$\n",
    "    * $\\sigma$ controla el tamaño de la vecindad  similar a $\\varepsilon$ del grafo  $\\varepsilon-$neigborhood"
   ]
  },
  {
   "cell_type": "code",
   "execution_count": null,
   "metadata": {
    "collapsed": true
   },
   "outputs": [],
   "source": []
  }
 ],
 "metadata": {
  "kernelspec": {
   "display_name": "Python 3",
   "language": "python",
   "name": "python3"
  },
  "language_info": {
   "codemirror_mode": {
    "name": "ipython",
    "version": 3
   },
   "file_extension": ".py",
   "mimetype": "text/x-python",
   "name": "python",
   "nbconvert_exporter": "python",
   "pygments_lexer": "ipython3",
   "version": "3.6.0"
  }
 },
 "nbformat": 4,
 "nbformat_minor": 2
}
